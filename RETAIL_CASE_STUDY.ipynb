{
 "cells": [
  {
   "cell_type": "code",
   "execution_count": 4,
   "id": "e70a1bce",
   "metadata": {},
   "outputs": [],
   "source": [
    "import pandas as pd\n",
    "import numpy as np\n",
    "import matplotlib.pyplot as plt\n",
    "import seaborn as sns"
   ]
  },
  {
   "cell_type": "code",
   "execution_count": 7,
   "id": "32a1110f",
   "metadata": {},
   "outputs": [
    {
     "data": {
      "text/html": [
       "<div>\n",
       "<style scoped>\n",
       "    .dataframe tbody tr th:only-of-type {\n",
       "        vertical-align: middle;\n",
       "    }\n",
       "\n",
       "    .dataframe tbody tr th {\n",
       "        vertical-align: top;\n",
       "    }\n",
       "\n",
       "    .dataframe thead th {\n",
       "        text-align: right;\n",
       "    }\n",
       "</style>\n",
       "<table border=\"1\" class=\"dataframe\">\n",
       "  <thead>\n",
       "    <tr style=\"text-align: right;\">\n",
       "      <th></th>\n",
       "      <th>customer_Id</th>\n",
       "      <th>DOB</th>\n",
       "      <th>Gender</th>\n",
       "      <th>city_code</th>\n",
       "    </tr>\n",
       "  </thead>\n",
       "  <tbody>\n",
       "    <tr>\n",
       "      <th>0</th>\n",
       "      <td>268408</td>\n",
       "      <td>02-01-1970</td>\n",
       "      <td>M</td>\n",
       "      <td>4.0</td>\n",
       "    </tr>\n",
       "    <tr>\n",
       "      <th>1</th>\n",
       "      <td>269696</td>\n",
       "      <td>07-01-1970</td>\n",
       "      <td>F</td>\n",
       "      <td>8.0</td>\n",
       "    </tr>\n",
       "  </tbody>\n",
       "</table>\n",
       "</div>"
      ],
      "text/plain": [
       "   customer_Id         DOB Gender  city_code\n",
       "0       268408  02-01-1970      M        4.0\n",
       "1       269696  07-01-1970      F        8.0"
      ]
     },
     "execution_count": 7,
     "metadata": {},
     "output_type": "execute_result"
    }
   ],
   "source": [
    "cust = pd.read_csv(r\"C:\\Users\\ifixthat\\Downloads\\Compressed\\New folder (3)\\Case Study 1 - Retail Case Study\\Customer.csv\")\n",
    "cust.head(2)"
   ]
  },
  {
   "cell_type": "code",
   "execution_count": 8,
   "id": "17d61775",
   "metadata": {},
   "outputs": [
    {
     "data": {
      "text/html": [
       "<div>\n",
       "<style scoped>\n",
       "    .dataframe tbody tr th:only-of-type {\n",
       "        vertical-align: middle;\n",
       "    }\n",
       "\n",
       "    .dataframe tbody tr th {\n",
       "        vertical-align: top;\n",
       "    }\n",
       "\n",
       "    .dataframe thead th {\n",
       "        text-align: right;\n",
       "    }\n",
       "</style>\n",
       "<table border=\"1\" class=\"dataframe\">\n",
       "  <thead>\n",
       "    <tr style=\"text-align: right;\">\n",
       "      <th></th>\n",
       "      <th>prod_cat_code</th>\n",
       "      <th>prod_cat</th>\n",
       "      <th>prod_sub_cat_code</th>\n",
       "      <th>prod_subcat</th>\n",
       "    </tr>\n",
       "  </thead>\n",
       "  <tbody>\n",
       "    <tr>\n",
       "      <th>0</th>\n",
       "      <td>1</td>\n",
       "      <td>Clothing</td>\n",
       "      <td>4</td>\n",
       "      <td>Mens</td>\n",
       "    </tr>\n",
       "    <tr>\n",
       "      <th>1</th>\n",
       "      <td>1</td>\n",
       "      <td>Clothing</td>\n",
       "      <td>1</td>\n",
       "      <td>Women</td>\n",
       "    </tr>\n",
       "  </tbody>\n",
       "</table>\n",
       "</div>"
      ],
      "text/plain": [
       "   prod_cat_code  prod_cat  prod_sub_cat_code prod_subcat\n",
       "0              1  Clothing                  4        Mens\n",
       "1              1  Clothing                  1       Women"
      ]
     },
     "execution_count": 8,
     "metadata": {},
     "output_type": "execute_result"
    }
   ],
   "source": [
    "pci = pd.read_csv(r\"C:\\Users\\ifixthat\\Downloads\\Compressed\\New folder (3)\\Case Study 1 - Retail Case Study\\prod_cat_info.csv\")\n",
    "pci.head(2)"
   ]
  },
  {
   "cell_type": "code",
   "execution_count": 9,
   "id": "b4cd3fd5",
   "metadata": {},
   "outputs": [
    {
     "data": {
      "text/html": [
       "<div>\n",
       "<style scoped>\n",
       "    .dataframe tbody tr th:only-of-type {\n",
       "        vertical-align: middle;\n",
       "    }\n",
       "\n",
       "    .dataframe tbody tr th {\n",
       "        vertical-align: top;\n",
       "    }\n",
       "\n",
       "    .dataframe thead th {\n",
       "        text-align: right;\n",
       "    }\n",
       "</style>\n",
       "<table border=\"1\" class=\"dataframe\">\n",
       "  <thead>\n",
       "    <tr style=\"text-align: right;\">\n",
       "      <th></th>\n",
       "      <th>transaction_id</th>\n",
       "      <th>cust_id</th>\n",
       "      <th>tran_date</th>\n",
       "      <th>prod_subcat_code</th>\n",
       "      <th>prod_cat_code</th>\n",
       "      <th>Qty</th>\n",
       "      <th>Rate</th>\n",
       "      <th>Tax</th>\n",
       "      <th>total_amt</th>\n",
       "      <th>Store_type</th>\n",
       "    </tr>\n",
       "  </thead>\n",
       "  <tbody>\n",
       "    <tr>\n",
       "      <th>0</th>\n",
       "      <td>80712190438</td>\n",
       "      <td>270351</td>\n",
       "      <td>28-02-2014</td>\n",
       "      <td>1</td>\n",
       "      <td>1</td>\n",
       "      <td>-5</td>\n",
       "      <td>-772</td>\n",
       "      <td>405.300</td>\n",
       "      <td>-4265.300</td>\n",
       "      <td>e-Shop</td>\n",
       "    </tr>\n",
       "    <tr>\n",
       "      <th>1</th>\n",
       "      <td>29258453508</td>\n",
       "      <td>270384</td>\n",
       "      <td>27-02-2014</td>\n",
       "      <td>5</td>\n",
       "      <td>3</td>\n",
       "      <td>-5</td>\n",
       "      <td>-1497</td>\n",
       "      <td>785.925</td>\n",
       "      <td>-8270.925</td>\n",
       "      <td>e-Shop</td>\n",
       "    </tr>\n",
       "  </tbody>\n",
       "</table>\n",
       "</div>"
      ],
      "text/plain": [
       "   transaction_id  cust_id   tran_date  prod_subcat_code  prod_cat_code  Qty  \\\n",
       "0     80712190438   270351  28-02-2014                 1              1   -5   \n",
       "1     29258453508   270384  27-02-2014                 5              3   -5   \n",
       "\n",
       "   Rate      Tax  total_amt Store_type  \n",
       "0  -772  405.300  -4265.300     e-Shop  \n",
       "1 -1497  785.925  -8270.925     e-Shop  "
      ]
     },
     "execution_count": 9,
     "metadata": {},
     "output_type": "execute_result"
    }
   ],
   "source": [
    "trans = pd.read_csv(r\"C:\\Users\\ifixthat\\Downloads\\Compressed\\New folder (3)\\Case Study 1 - Retail Case Study\\Transactions.csv\")\n",
    "trans.head(2)"
   ]
  },
  {
   "cell_type": "markdown",
   "id": "e2f905ac",
   "metadata": {},
   "source": [
    "### 1. Merge the datasets Customers, Product Hierarchy and Transactions as Customer_Final. Ensure to keep all customers who have done transactions with us and select the join type accordingly.\n"
   ]
  },
  {
   "cell_type": "code",
   "execution_count": 10,
   "id": "e741b716",
   "metadata": {},
   "outputs": [
    {
     "data": {
      "text/html": [
       "<div>\n",
       "<style scoped>\n",
       "    .dataframe tbody tr th:only-of-type {\n",
       "        vertical-align: middle;\n",
       "    }\n",
       "\n",
       "    .dataframe tbody tr th {\n",
       "        vertical-align: top;\n",
       "    }\n",
       "\n",
       "    .dataframe thead th {\n",
       "        text-align: right;\n",
       "    }\n",
       "</style>\n",
       "<table border=\"1\" class=\"dataframe\">\n",
       "  <thead>\n",
       "    <tr style=\"text-align: right;\">\n",
       "      <th></th>\n",
       "      <th>customer_Id</th>\n",
       "      <th>DOB</th>\n",
       "      <th>Gender</th>\n",
       "      <th>city_code</th>\n",
       "      <th>transaction_id</th>\n",
       "      <th>cust_id</th>\n",
       "      <th>tran_date</th>\n",
       "      <th>prod_subcat_code</th>\n",
       "      <th>prod_cat_code</th>\n",
       "      <th>Qty</th>\n",
       "      <th>Rate</th>\n",
       "      <th>Tax</th>\n",
       "      <th>total_amt</th>\n",
       "      <th>Store_type</th>\n",
       "      <th>prod_cat</th>\n",
       "      <th>prod_sub_cat_code</th>\n",
       "      <th>prod_subcat</th>\n",
       "    </tr>\n",
       "  </thead>\n",
       "  <tbody>\n",
       "    <tr>\n",
       "      <th>0</th>\n",
       "      <td>268408</td>\n",
       "      <td>02-01-1970</td>\n",
       "      <td>M</td>\n",
       "      <td>4.0</td>\n",
       "      <td>87243835584</td>\n",
       "      <td>268408</td>\n",
       "      <td>13-01-2014</td>\n",
       "      <td>7</td>\n",
       "      <td>5</td>\n",
       "      <td>5</td>\n",
       "      <td>187</td>\n",
       "      <td>98.175</td>\n",
       "      <td>1033.175</td>\n",
       "      <td>TeleShop</td>\n",
       "      <td>Books</td>\n",
       "      <td>7</td>\n",
       "      <td>Fiction</td>\n",
       "    </tr>\n",
       "    <tr>\n",
       "      <th>1</th>\n",
       "      <td>275152</td>\n",
       "      <td>16-01-1970</td>\n",
       "      <td>M</td>\n",
       "      <td>4.0</td>\n",
       "      <td>73109425404</td>\n",
       "      <td>275152</td>\n",
       "      <td>25-03-2011</td>\n",
       "      <td>7</td>\n",
       "      <td>5</td>\n",
       "      <td>2</td>\n",
       "      <td>464</td>\n",
       "      <td>97.440</td>\n",
       "      <td>1025.440</td>\n",
       "      <td>e-Shop</td>\n",
       "      <td>Books</td>\n",
       "      <td>7</td>\n",
       "      <td>Fiction</td>\n",
       "    </tr>\n",
       "  </tbody>\n",
       "</table>\n",
       "</div>"
      ],
      "text/plain": [
       "   customer_Id         DOB Gender  city_code  transaction_id  cust_id  \\\n",
       "0       268408  02-01-1970      M        4.0     87243835584   268408   \n",
       "1       275152  16-01-1970      M        4.0     73109425404   275152   \n",
       "\n",
       "    tran_date  prod_subcat_code  prod_cat_code  Qty  Rate     Tax  total_amt  \\\n",
       "0  13-01-2014                 7              5    5   187  98.175   1033.175   \n",
       "1  25-03-2011                 7              5    2   464  97.440   1025.440   \n",
       "\n",
       "  Store_type prod_cat  prod_sub_cat_code prod_subcat  \n",
       "0   TeleShop    Books                  7     Fiction  \n",
       "1     e-Shop    Books                  7     Fiction  "
      ]
     },
     "execution_count": 10,
     "metadata": {},
     "output_type": "execute_result"
    }
   ],
   "source": [
    "customer_final = cust.merge(trans, how = 'inner',left_on = 'customer_Id' ,\n",
    "                            right_on = 'cust_id' ).merge(pci , left_on = ['prod_subcat_code','prod_cat_code'] \n",
    "                                                             ,right_on = ['prod_sub_cat_code','prod_cat_code']  )\n",
    "customer_final.head(2)"
   ]
  },
  {
   "cell_type": "code",
   "execution_count": 11,
   "id": "d0d50a07",
   "metadata": {},
   "outputs": [
    {
     "name": "stdout",
     "output_type": "stream",
     "text": [
      "<class 'pandas.core.frame.DataFrame'>\n",
      "Int64Index: 23053 entries, 0 to 23052\n",
      "Data columns (total 17 columns):\n",
      " #   Column             Non-Null Count  Dtype  \n",
      "---  ------             --------------  -----  \n",
      " 0   customer_Id        23053 non-null  int64  \n",
      " 1   DOB                23053 non-null  object \n",
      " 2   Gender             23044 non-null  object \n",
      " 3   city_code          23045 non-null  float64\n",
      " 4   transaction_id     23053 non-null  int64  \n",
      " 5   cust_id            23053 non-null  int64  \n",
      " 6   tran_date          23053 non-null  object \n",
      " 7   prod_subcat_code   23053 non-null  int64  \n",
      " 8   prod_cat_code      23053 non-null  int64  \n",
      " 9   Qty                23053 non-null  int64  \n",
      " 10  Rate               23053 non-null  int64  \n",
      " 11  Tax                23053 non-null  float64\n",
      " 12  total_amt          23053 non-null  float64\n",
      " 13  Store_type         23053 non-null  object \n",
      " 14  prod_cat           23053 non-null  object \n",
      " 15  prod_sub_cat_code  23053 non-null  int64  \n",
      " 16  prod_subcat        23053 non-null  object \n",
      "dtypes: float64(3), int64(8), object(6)\n",
      "memory usage: 3.2+ MB\n"
     ]
    }
   ],
   "source": [
    "customer_final.info()"
   ]
  },
  {
   "cell_type": "code",
   "execution_count": 12,
   "id": "3583f775",
   "metadata": {},
   "outputs": [
    {
     "name": "stdout",
     "output_type": "stream",
     "text": [
      "<class 'pandas.core.frame.DataFrame'>\n",
      "RangeIndex: 5647 entries, 0 to 5646\n",
      "Data columns (total 4 columns):\n",
      " #   Column       Non-Null Count  Dtype  \n",
      "---  ------       --------------  -----  \n",
      " 0   customer_Id  5647 non-null   int64  \n",
      " 1   DOB          5647 non-null   object \n",
      " 2   Gender       5645 non-null   object \n",
      " 3   city_code    5645 non-null   float64\n",
      "dtypes: float64(1), int64(1), object(2)\n",
      "memory usage: 176.6+ KB\n"
     ]
    }
   ],
   "source": [
    "cust.info()"
   ]
  },
  {
   "cell_type": "code",
   "execution_count": 13,
   "id": "460716b4",
   "metadata": {},
   "outputs": [
    {
     "name": "stdout",
     "output_type": "stream",
     "text": [
      "<class 'pandas.core.frame.DataFrame'>\n",
      "RangeIndex: 23 entries, 0 to 22\n",
      "Data columns (total 4 columns):\n",
      " #   Column             Non-Null Count  Dtype \n",
      "---  ------             --------------  ----- \n",
      " 0   prod_cat_code      23 non-null     int64 \n",
      " 1   prod_cat           23 non-null     object\n",
      " 2   prod_sub_cat_code  23 non-null     int64 \n",
      " 3   prod_subcat        23 non-null     object\n",
      "dtypes: int64(2), object(2)\n",
      "memory usage: 864.0+ bytes\n"
     ]
    }
   ],
   "source": [
    "pci.info()"
   ]
  },
  {
   "cell_type": "code",
   "execution_count": 14,
   "id": "c5b09379",
   "metadata": {},
   "outputs": [
    {
     "name": "stdout",
     "output_type": "stream",
     "text": [
      "<class 'pandas.core.frame.DataFrame'>\n",
      "RangeIndex: 23053 entries, 0 to 23052\n",
      "Data columns (total 10 columns):\n",
      " #   Column            Non-Null Count  Dtype  \n",
      "---  ------            --------------  -----  \n",
      " 0   transaction_id    23053 non-null  int64  \n",
      " 1   cust_id           23053 non-null  int64  \n",
      " 2   tran_date         23053 non-null  object \n",
      " 3   prod_subcat_code  23053 non-null  int64  \n",
      " 4   prod_cat_code     23053 non-null  int64  \n",
      " 5   Qty               23053 non-null  int64  \n",
      " 6   Rate              23053 non-null  int64  \n",
      " 7   Tax               23053 non-null  float64\n",
      " 8   total_amt         23053 non-null  float64\n",
      " 9   Store_type        23053 non-null  object \n",
      "dtypes: float64(2), int64(6), object(2)\n",
      "memory usage: 1.8+ MB\n"
     ]
    }
   ],
   "source": [
    "trans.info()"
   ]
  },
  {
   "cell_type": "markdown",
   "id": "0b4e9602",
   "metadata": {},
   "source": [
    "#### 2. Prepare a summary report for the merged data set."
   ]
  },
  {
   "cell_type": "markdown",
   "id": "9b9c8f5f",
   "metadata": {},
   "source": [
    " **a. Get the column names and their corresponding data types.**\n"
   ]
  },
  {
   "cell_type": "code",
   "execution_count": 15,
   "id": "33c2bf7a",
   "metadata": {},
   "outputs": [
    {
     "data": {
      "text/plain": [
       "customer_Id            int64\n",
       "DOB                   object\n",
       "Gender                object\n",
       "city_code            float64\n",
       "transaction_id         int64\n",
       "cust_id                int64\n",
       "tran_date             object\n",
       "prod_subcat_code       int64\n",
       "prod_cat_code          int64\n",
       "Qty                    int64\n",
       "Rate                   int64\n",
       "Tax                  float64\n",
       "total_amt            float64\n",
       "Store_type            object\n",
       "prod_cat              object\n",
       "prod_sub_cat_code      int64\n",
       "prod_subcat           object\n",
       "dtype: object"
      ]
     },
     "execution_count": 15,
     "metadata": {},
     "output_type": "execute_result"
    }
   ],
   "source": [
    "customer_final.dtypes"
   ]
  },
  {
   "cell_type": "markdown",
   "id": "6874f771",
   "metadata": {},
   "source": [
    " **b. Top/Bottom 10 observations**"
   ]
  },
  {
   "cell_type": "code",
   "execution_count": 16,
   "id": "af6986c3",
   "metadata": {},
   "outputs": [
    {
     "data": {
      "text/html": [
       "<div>\n",
       "<style scoped>\n",
       "    .dataframe tbody tr th:only-of-type {\n",
       "        vertical-align: middle;\n",
       "    }\n",
       "\n",
       "    .dataframe tbody tr th {\n",
       "        vertical-align: top;\n",
       "    }\n",
       "\n",
       "    .dataframe thead th {\n",
       "        text-align: right;\n",
       "    }\n",
       "</style>\n",
       "<table border=\"1\" class=\"dataframe\">\n",
       "  <thead>\n",
       "    <tr style=\"text-align: right;\">\n",
       "      <th></th>\n",
       "      <th>customer_Id</th>\n",
       "      <th>DOB</th>\n",
       "      <th>Gender</th>\n",
       "      <th>city_code</th>\n",
       "      <th>transaction_id</th>\n",
       "      <th>cust_id</th>\n",
       "      <th>tran_date</th>\n",
       "      <th>prod_subcat_code</th>\n",
       "      <th>prod_cat_code</th>\n",
       "      <th>Qty</th>\n",
       "      <th>Rate</th>\n",
       "      <th>Tax</th>\n",
       "      <th>total_amt</th>\n",
       "      <th>Store_type</th>\n",
       "      <th>prod_cat</th>\n",
       "      <th>prod_sub_cat_code</th>\n",
       "      <th>prod_subcat</th>\n",
       "    </tr>\n",
       "  </thead>\n",
       "  <tbody>\n",
       "    <tr>\n",
       "      <th>0</th>\n",
       "      <td>268408</td>\n",
       "      <td>02-01-1970</td>\n",
       "      <td>M</td>\n",
       "      <td>4.0</td>\n",
       "      <td>87243835584</td>\n",
       "      <td>268408</td>\n",
       "      <td>13-01-2014</td>\n",
       "      <td>7</td>\n",
       "      <td>5</td>\n",
       "      <td>5</td>\n",
       "      <td>187</td>\n",
       "      <td>98.175</td>\n",
       "      <td>1033.175</td>\n",
       "      <td>TeleShop</td>\n",
       "      <td>Books</td>\n",
       "      <td>7</td>\n",
       "      <td>Fiction</td>\n",
       "    </tr>\n",
       "    <tr>\n",
       "      <th>1</th>\n",
       "      <td>275152</td>\n",
       "      <td>16-01-1970</td>\n",
       "      <td>M</td>\n",
       "      <td>4.0</td>\n",
       "      <td>73109425404</td>\n",
       "      <td>275152</td>\n",
       "      <td>25-03-2011</td>\n",
       "      <td>7</td>\n",
       "      <td>5</td>\n",
       "      <td>2</td>\n",
       "      <td>464</td>\n",
       "      <td>97.440</td>\n",
       "      <td>1025.440</td>\n",
       "      <td>e-Shop</td>\n",
       "      <td>Books</td>\n",
       "      <td>7</td>\n",
       "      <td>Fiction</td>\n",
       "    </tr>\n",
       "    <tr>\n",
       "      <th>2</th>\n",
       "      <td>275034</td>\n",
       "      <td>18-01-1970</td>\n",
       "      <td>F</td>\n",
       "      <td>4.0</td>\n",
       "      <td>64777271023</td>\n",
       "      <td>275034</td>\n",
       "      <td>23-05-2011</td>\n",
       "      <td>7</td>\n",
       "      <td>5</td>\n",
       "      <td>2</td>\n",
       "      <td>197</td>\n",
       "      <td>41.370</td>\n",
       "      <td>435.370</td>\n",
       "      <td>Flagship store</td>\n",
       "      <td>Books</td>\n",
       "      <td>7</td>\n",
       "      <td>Fiction</td>\n",
       "    </tr>\n",
       "    <tr>\n",
       "      <th>3</th>\n",
       "      <td>270829</td>\n",
       "      <td>22-01-1970</td>\n",
       "      <td>F</td>\n",
       "      <td>8.0</td>\n",
       "      <td>87174343938</td>\n",
       "      <td>270829</td>\n",
       "      <td>9/12/2013</td>\n",
       "      <td>7</td>\n",
       "      <td>5</td>\n",
       "      <td>4</td>\n",
       "      <td>1141</td>\n",
       "      <td>479.220</td>\n",
       "      <td>5043.220</td>\n",
       "      <td>e-Shop</td>\n",
       "      <td>Books</td>\n",
       "      <td>7</td>\n",
       "      <td>Fiction</td>\n",
       "    </tr>\n",
       "    <tr>\n",
       "      <th>4</th>\n",
       "      <td>267657</td>\n",
       "      <td>29-01-1970</td>\n",
       "      <td>F</td>\n",
       "      <td>7.0</td>\n",
       "      <td>76242744953</td>\n",
       "      <td>267657</td>\n",
       "      <td>23-05-2013</td>\n",
       "      <td>7</td>\n",
       "      <td>5</td>\n",
       "      <td>4</td>\n",
       "      <td>1020</td>\n",
       "      <td>428.400</td>\n",
       "      <td>4508.400</td>\n",
       "      <td>e-Shop</td>\n",
       "      <td>Books</td>\n",
       "      <td>7</td>\n",
       "      <td>Fiction</td>\n",
       "    </tr>\n",
       "    <tr>\n",
       "      <th>5</th>\n",
       "      <td>274630</td>\n",
       "      <td>01-02-1970</td>\n",
       "      <td>M</td>\n",
       "      <td>4.0</td>\n",
       "      <td>78357345891</td>\n",
       "      <td>274630</td>\n",
       "      <td>11/4/2012</td>\n",
       "      <td>7</td>\n",
       "      <td>5</td>\n",
       "      <td>1</td>\n",
       "      <td>646</td>\n",
       "      <td>67.830</td>\n",
       "      <td>713.830</td>\n",
       "      <td>TeleShop</td>\n",
       "      <td>Books</td>\n",
       "      <td>7</td>\n",
       "      <td>Fiction</td>\n",
       "    </tr>\n",
       "    <tr>\n",
       "      <th>6</th>\n",
       "      <td>273541</td>\n",
       "      <td>01-02-1970</td>\n",
       "      <td>M</td>\n",
       "      <td>4.0</td>\n",
       "      <td>23916816961</td>\n",
       "      <td>273541</td>\n",
       "      <td>9/2/2013</td>\n",
       "      <td>7</td>\n",
       "      <td>5</td>\n",
       "      <td>4</td>\n",
       "      <td>410</td>\n",
       "      <td>172.200</td>\n",
       "      <td>1812.200</td>\n",
       "      <td>e-Shop</td>\n",
       "      <td>Books</td>\n",
       "      <td>7</td>\n",
       "      <td>Fiction</td>\n",
       "    </tr>\n",
       "    <tr>\n",
       "      <th>7</th>\n",
       "      <td>269008</td>\n",
       "      <td>13-02-1970</td>\n",
       "      <td>F</td>\n",
       "      <td>6.0</td>\n",
       "      <td>35560569829</td>\n",
       "      <td>269008</td>\n",
       "      <td>9/3/2013</td>\n",
       "      <td>7</td>\n",
       "      <td>5</td>\n",
       "      <td>1</td>\n",
       "      <td>1441</td>\n",
       "      <td>151.305</td>\n",
       "      <td>1592.305</td>\n",
       "      <td>e-Shop</td>\n",
       "      <td>Books</td>\n",
       "      <td>7</td>\n",
       "      <td>Fiction</td>\n",
       "    </tr>\n",
       "    <tr>\n",
       "      <th>8</th>\n",
       "      <td>269008</td>\n",
       "      <td>13-02-1970</td>\n",
       "      <td>F</td>\n",
       "      <td>6.0</td>\n",
       "      <td>94033312891</td>\n",
       "      <td>269008</td>\n",
       "      <td>26-04-2012</td>\n",
       "      <td>7</td>\n",
       "      <td>5</td>\n",
       "      <td>5</td>\n",
       "      <td>746</td>\n",
       "      <td>391.650</td>\n",
       "      <td>4121.650</td>\n",
       "      <td>MBR</td>\n",
       "      <td>Books</td>\n",
       "      <td>7</td>\n",
       "      <td>Fiction</td>\n",
       "    </tr>\n",
       "    <tr>\n",
       "      <th>9</th>\n",
       "      <td>267199</td>\n",
       "      <td>14-02-1970</td>\n",
       "      <td>NaN</td>\n",
       "      <td>2.0</td>\n",
       "      <td>56749259881</td>\n",
       "      <td>267199</td>\n",
       "      <td>11/1/2012</td>\n",
       "      <td>7</td>\n",
       "      <td>5</td>\n",
       "      <td>4</td>\n",
       "      <td>1049</td>\n",
       "      <td>440.580</td>\n",
       "      <td>4636.580</td>\n",
       "      <td>MBR</td>\n",
       "      <td>Books</td>\n",
       "      <td>7</td>\n",
       "      <td>Fiction</td>\n",
       "    </tr>\n",
       "  </tbody>\n",
       "</table>\n",
       "</div>"
      ],
      "text/plain": [
       "   customer_Id         DOB Gender  city_code  transaction_id  cust_id  \\\n",
       "0       268408  02-01-1970      M        4.0     87243835584   268408   \n",
       "1       275152  16-01-1970      M        4.0     73109425404   275152   \n",
       "2       275034  18-01-1970      F        4.0     64777271023   275034   \n",
       "3       270829  22-01-1970      F        8.0     87174343938   270829   \n",
       "4       267657  29-01-1970      F        7.0     76242744953   267657   \n",
       "5       274630  01-02-1970      M        4.0     78357345891   274630   \n",
       "6       273541  01-02-1970      M        4.0     23916816961   273541   \n",
       "7       269008  13-02-1970      F        6.0     35560569829   269008   \n",
       "8       269008  13-02-1970      F        6.0     94033312891   269008   \n",
       "9       267199  14-02-1970    NaN        2.0     56749259881   267199   \n",
       "\n",
       "    tran_date  prod_subcat_code  prod_cat_code  Qty  Rate      Tax  total_amt  \\\n",
       "0  13-01-2014                 7              5    5   187   98.175   1033.175   \n",
       "1  25-03-2011                 7              5    2   464   97.440   1025.440   \n",
       "2  23-05-2011                 7              5    2   197   41.370    435.370   \n",
       "3   9/12/2013                 7              5    4  1141  479.220   5043.220   \n",
       "4  23-05-2013                 7              5    4  1020  428.400   4508.400   \n",
       "5   11/4/2012                 7              5    1   646   67.830    713.830   \n",
       "6    9/2/2013                 7              5    4   410  172.200   1812.200   \n",
       "7    9/3/2013                 7              5    1  1441  151.305   1592.305   \n",
       "8  26-04-2012                 7              5    5   746  391.650   4121.650   \n",
       "9   11/1/2012                 7              5    4  1049  440.580   4636.580   \n",
       "\n",
       "       Store_type prod_cat  prod_sub_cat_code prod_subcat  \n",
       "0        TeleShop    Books                  7     Fiction  \n",
       "1          e-Shop    Books                  7     Fiction  \n",
       "2  Flagship store    Books                  7     Fiction  \n",
       "3          e-Shop    Books                  7     Fiction  \n",
       "4          e-Shop    Books                  7     Fiction  \n",
       "5        TeleShop    Books                  7     Fiction  \n",
       "6          e-Shop    Books                  7     Fiction  \n",
       "7          e-Shop    Books                  7     Fiction  \n",
       "8             MBR    Books                  7     Fiction  \n",
       "9             MBR    Books                  7     Fiction  "
      ]
     },
     "execution_count": 16,
     "metadata": {},
     "output_type": "execute_result"
    }
   ],
   "source": [
    "customer_final.head(10)"
   ]
  },
  {
   "cell_type": "markdown",
   "id": "feaf1165",
   "metadata": {},
   "source": [
    "**c. “Five-number summary” for continuous variables (min, Q1, median, Q3 and max)**"
   ]
  },
  {
   "cell_type": "code",
   "execution_count": 17,
   "id": "0db209e7",
   "metadata": {},
   "outputs": [],
   "source": [
    "a = customer_final.describe()"
   ]
  },
  {
   "cell_type": "code",
   "execution_count": 18,
   "id": "2ac14e4d",
   "metadata": {},
   "outputs": [
    {
     "data": {
      "text/html": [
       "<div>\n",
       "<style scoped>\n",
       "    .dataframe tbody tr th:only-of-type {\n",
       "        vertical-align: middle;\n",
       "    }\n",
       "\n",
       "    .dataframe tbody tr th {\n",
       "        vertical-align: top;\n",
       "    }\n",
       "\n",
       "    .dataframe thead th {\n",
       "        text-align: right;\n",
       "    }\n",
       "</style>\n",
       "<table border=\"1\" class=\"dataframe\">\n",
       "  <thead>\n",
       "    <tr style=\"text-align: right;\">\n",
       "      <th></th>\n",
       "      <th>customer_Id</th>\n",
       "      <th>city_code</th>\n",
       "      <th>transaction_id</th>\n",
       "      <th>cust_id</th>\n",
       "      <th>prod_subcat_code</th>\n",
       "      <th>prod_cat_code</th>\n",
       "      <th>Qty</th>\n",
       "      <th>Rate</th>\n",
       "      <th>Tax</th>\n",
       "      <th>total_amt</th>\n",
       "      <th>prod_sub_cat_code</th>\n",
       "    </tr>\n",
       "  </thead>\n",
       "  <tbody>\n",
       "    <tr>\n",
       "      <th>min</th>\n",
       "      <td>266783.000000</td>\n",
       "      <td>1.000000</td>\n",
       "      <td>3.268991e+06</td>\n",
       "      <td>266783.000000</td>\n",
       "      <td>1.000000</td>\n",
       "      <td>1.000000</td>\n",
       "      <td>-5.000000</td>\n",
       "      <td>-1499.000000</td>\n",
       "      <td>7.350000</td>\n",
       "      <td>-8270.925000</td>\n",
       "      <td>1.000000</td>\n",
       "    </tr>\n",
       "    <tr>\n",
       "      <th>max</th>\n",
       "      <td>275265.000000</td>\n",
       "      <td>10.000000</td>\n",
       "      <td>9.998755e+10</td>\n",
       "      <td>275265.000000</td>\n",
       "      <td>12.000000</td>\n",
       "      <td>6.000000</td>\n",
       "      <td>5.000000</td>\n",
       "      <td>1500.000000</td>\n",
       "      <td>787.500000</td>\n",
       "      <td>8287.500000</td>\n",
       "      <td>12.000000</td>\n",
       "    </tr>\n",
       "    <tr>\n",
       "      <th>25%</th>\n",
       "      <td>268935.000000</td>\n",
       "      <td>3.000000</td>\n",
       "      <td>2.493864e+10</td>\n",
       "      <td>268935.000000</td>\n",
       "      <td>3.000000</td>\n",
       "      <td>2.000000</td>\n",
       "      <td>1.000000</td>\n",
       "      <td>312.000000</td>\n",
       "      <td>98.280000</td>\n",
       "      <td>762.450000</td>\n",
       "      <td>3.000000</td>\n",
       "    </tr>\n",
       "    <tr>\n",
       "      <th>75%</th>\n",
       "      <td>273114.000000</td>\n",
       "      <td>8.000000</td>\n",
       "      <td>7.533000e+10</td>\n",
       "      <td>273114.000000</td>\n",
       "      <td>10.000000</td>\n",
       "      <td>5.000000</td>\n",
       "      <td>4.000000</td>\n",
       "      <td>1109.000000</td>\n",
       "      <td>365.715000</td>\n",
       "      <td>3569.150000</td>\n",
       "      <td>10.000000</td>\n",
       "    </tr>\n",
       "    <tr>\n",
       "      <th>mean</th>\n",
       "      <td>271021.746497</td>\n",
       "      <td>5.482534</td>\n",
       "      <td>5.007348e+10</td>\n",
       "      <td>271021.746497</td>\n",
       "      <td>6.149091</td>\n",
       "      <td>3.763632</td>\n",
       "      <td>2.432395</td>\n",
       "      <td>636.369713</td>\n",
       "      <td>248.667192</td>\n",
       "      <td>2107.308002</td>\n",
       "      <td>6.149091</td>\n",
       "    </tr>\n",
       "  </tbody>\n",
       "</table>\n",
       "</div>"
      ],
      "text/plain": [
       "        customer_Id  city_code  transaction_id        cust_id  \\\n",
       "min   266783.000000   1.000000    3.268991e+06  266783.000000   \n",
       "max   275265.000000  10.000000    9.998755e+10  275265.000000   \n",
       "25%   268935.000000   3.000000    2.493864e+10  268935.000000   \n",
       "75%   273114.000000   8.000000    7.533000e+10  273114.000000   \n",
       "mean  271021.746497   5.482534    5.007348e+10  271021.746497   \n",
       "\n",
       "      prod_subcat_code  prod_cat_code       Qty         Rate         Tax  \\\n",
       "min           1.000000       1.000000 -5.000000 -1499.000000    7.350000   \n",
       "max          12.000000       6.000000  5.000000  1500.000000  787.500000   \n",
       "25%           3.000000       2.000000  1.000000   312.000000   98.280000   \n",
       "75%          10.000000       5.000000  4.000000  1109.000000  365.715000   \n",
       "mean          6.149091       3.763632  2.432395   636.369713  248.667192   \n",
       "\n",
       "        total_amt  prod_sub_cat_code  \n",
       "min  -8270.925000           1.000000  \n",
       "max   8287.500000          12.000000  \n",
       "25%    762.450000           3.000000  \n",
       "75%   3569.150000          10.000000  \n",
       "mean  2107.308002           6.149091  "
      ]
     },
     "execution_count": 18,
     "metadata": {},
     "output_type": "execute_result"
    }
   ],
   "source": [
    "a.loc[['min','max','25%','75%','mean'], : :  ]"
   ]
  },
  {
   "cell_type": "markdown",
   "id": "1c7eebb0",
   "metadata": {},
   "source": [
    "### ***d. Frequency tables for all the categorical variables***"
   ]
  },
  {
   "cell_type": "code",
   "execution_count": 19,
   "id": "158e722d",
   "metadata": {},
   "outputs": [],
   "source": [
    "##### Converting DOB & Transaction date into proper datetime format"
   ]
  },
  {
   "cell_type": "code",
   "execution_count": 20,
   "id": "e44d3198",
   "metadata": {},
   "outputs": [
    {
     "name": "stderr",
     "output_type": "stream",
     "text": [
      "C:\\Users\\ifixthat\\AppData\\Local\\Temp\\ipykernel_8844\\392363837.py:1: UserWarning: Parsing dates in DD/MM/YYYY format when dayfirst=False (the default) was specified. This may lead to inconsistently parsed dates! Specify a format to ensure consistent parsing.\n",
      "  customer_final['DOB'] = pd.to_datetime(customer_final.DOB  )\n"
     ]
    },
    {
     "data": {
      "text/plain": [
       "0       1970-02-01\n",
       "1       1970-01-16\n",
       "2       1970-01-18\n",
       "3       1970-01-22\n",
       "4       1970-01-29\n",
       "           ...    \n",
       "23048   1992-04-12\n",
       "23049   1992-09-12\n",
       "23050   1992-12-15\n",
       "23051   1992-12-15\n",
       "23052   1992-12-15\n",
       "Name: DOB, Length: 23053, dtype: datetime64[ns]"
      ]
     },
     "execution_count": 20,
     "metadata": {},
     "output_type": "execute_result"
    }
   ],
   "source": [
    "customer_final['DOB'] = pd.to_datetime(customer_final.DOB ,  )\n",
    "customer_final.DOB\n"
   ]
  },
  {
   "cell_type": "code",
   "execution_count": 21,
   "id": "8fe7b541",
   "metadata": {},
   "outputs": [
    {
     "name": "stderr",
     "output_type": "stream",
     "text": [
      "C:\\Users\\ifixthat\\AppData\\Local\\Temp\\ipykernel_8844\\1902540995.py:1: UserWarning: Parsing dates in DD/MM/YYYY format when dayfirst=False (the default) was specified. This may lead to inconsistently parsed dates! Specify a format to ensure consistent parsing.\n",
      "  customer_final['tran_date'] = pd.to_datetime(customer_final.tran_date)\n"
     ]
    },
    {
     "data": {
      "text/plain": [
       "0       2014-01-13\n",
       "1       2011-03-25\n",
       "2       2011-05-23\n",
       "3       2013-09-12\n",
       "4       2013-05-23\n",
       "           ...    \n",
       "23048   2012-10-10\n",
       "23049   2013-08-17\n",
       "23050   2012-01-02\n",
       "23051   2011-01-31\n",
       "23052   2011-01-26\n",
       "Name: tran_date, Length: 23053, dtype: datetime64[ns]"
      ]
     },
     "execution_count": 21,
     "metadata": {},
     "output_type": "execute_result"
    }
   ],
   "source": [
    "customer_final['tran_date'] = pd.to_datetime(customer_final.tran_date)\n",
    "customer_final.tran_date"
   ]
  },
  {
   "cell_type": "code",
   "execution_count": 22,
   "id": "17038191",
   "metadata": {},
   "outputs": [
    {
     "data": {
      "text/html": [
       "<div>\n",
       "<style scoped>\n",
       "    .dataframe tbody tr th:only-of-type {\n",
       "        vertical-align: middle;\n",
       "    }\n",
       "\n",
       "    .dataframe tbody tr th {\n",
       "        vertical-align: top;\n",
       "    }\n",
       "\n",
       "    .dataframe thead th {\n",
       "        text-align: right;\n",
       "    }\n",
       "</style>\n",
       "<table border=\"1\" class=\"dataframe\">\n",
       "  <thead>\n",
       "    <tr style=\"text-align: right;\">\n",
       "      <th></th>\n",
       "      <th>Gender</th>\n",
       "      <th>Store_type</th>\n",
       "      <th>prod_cat</th>\n",
       "      <th>prod_subcat</th>\n",
       "    </tr>\n",
       "  </thead>\n",
       "  <tbody>\n",
       "    <tr>\n",
       "      <th>count</th>\n",
       "      <td>23044</td>\n",
       "      <td>23053</td>\n",
       "      <td>23053</td>\n",
       "      <td>23053</td>\n",
       "    </tr>\n",
       "    <tr>\n",
       "      <th>unique</th>\n",
       "      <td>2</td>\n",
       "      <td>4</td>\n",
       "      <td>6</td>\n",
       "      <td>18</td>\n",
       "    </tr>\n",
       "    <tr>\n",
       "      <th>top</th>\n",
       "      <td>M</td>\n",
       "      <td>e-Shop</td>\n",
       "      <td>Books</td>\n",
       "      <td>Women</td>\n",
       "    </tr>\n",
       "    <tr>\n",
       "      <th>freq</th>\n",
       "      <td>11811</td>\n",
       "      <td>9311</td>\n",
       "      <td>6069</td>\n",
       "      <td>3048</td>\n",
       "    </tr>\n",
       "  </tbody>\n",
       "</table>\n",
       "</div>"
      ],
      "text/plain": [
       "       Gender Store_type prod_cat prod_subcat\n",
       "count   23044      23053    23053       23053\n",
       "unique      2          4        6          18\n",
       "top         M     e-Shop    Books       Women\n",
       "freq    11811       9311     6069        3048"
      ]
     },
     "execution_count": 22,
     "metadata": {},
     "output_type": "execute_result"
    }
   ],
   "source": [
    "cat_var = customer_final.select_dtypes('object')\n",
    "cat_var.describe()"
   ]
  },
  {
   "cell_type": "markdown",
   "id": "2af54b8b",
   "metadata": {},
   "source": [
    "### ***3. Generate histograms for all continuous variables and frequency bars for categorical variables.***"
   ]
  },
  {
   "cell_type": "code",
   "execution_count": 23,
   "id": "4dafd3c5",
   "metadata": {},
   "outputs": [
    {
     "data": {
      "text/html": [
       "<div>\n",
       "<style scoped>\n",
       "    .dataframe tbody tr th:only-of-type {\n",
       "        vertical-align: middle;\n",
       "    }\n",
       "\n",
       "    .dataframe tbody tr th {\n",
       "        vertical-align: top;\n",
       "    }\n",
       "\n",
       "    .dataframe thead th {\n",
       "        text-align: right;\n",
       "    }\n",
       "</style>\n",
       "<table border=\"1\" class=\"dataframe\">\n",
       "  <thead>\n",
       "    <tr style=\"text-align: right;\">\n",
       "      <th></th>\n",
       "      <th>customer_Id</th>\n",
       "      <th>DOB</th>\n",
       "      <th>Gender</th>\n",
       "      <th>city_code</th>\n",
       "      <th>transaction_id</th>\n",
       "      <th>cust_id</th>\n",
       "      <th>tran_date</th>\n",
       "      <th>prod_subcat_code</th>\n",
       "      <th>prod_cat_code</th>\n",
       "      <th>Qty</th>\n",
       "      <th>Rate</th>\n",
       "      <th>Tax</th>\n",
       "      <th>total_amt</th>\n",
       "      <th>Store_type</th>\n",
       "      <th>prod_cat</th>\n",
       "      <th>prod_sub_cat_code</th>\n",
       "      <th>prod_subcat</th>\n",
       "    </tr>\n",
       "  </thead>\n",
       "  <tbody>\n",
       "    <tr>\n",
       "      <th>0</th>\n",
       "      <td>268408</td>\n",
       "      <td>1970-02-01</td>\n",
       "      <td>M</td>\n",
       "      <td>4.0</td>\n",
       "      <td>87243835584</td>\n",
       "      <td>268408</td>\n",
       "      <td>2014-01-13</td>\n",
       "      <td>7</td>\n",
       "      <td>5</td>\n",
       "      <td>5</td>\n",
       "      <td>187</td>\n",
       "      <td>98.175</td>\n",
       "      <td>1033.175</td>\n",
       "      <td>TeleShop</td>\n",
       "      <td>Books</td>\n",
       "      <td>7</td>\n",
       "      <td>Fiction</td>\n",
       "    </tr>\n",
       "    <tr>\n",
       "      <th>1</th>\n",
       "      <td>275152</td>\n",
       "      <td>1970-01-16</td>\n",
       "      <td>M</td>\n",
       "      <td>4.0</td>\n",
       "      <td>73109425404</td>\n",
       "      <td>275152</td>\n",
       "      <td>2011-03-25</td>\n",
       "      <td>7</td>\n",
       "      <td>5</td>\n",
       "      <td>2</td>\n",
       "      <td>464</td>\n",
       "      <td>97.440</td>\n",
       "      <td>1025.440</td>\n",
       "      <td>e-Shop</td>\n",
       "      <td>Books</td>\n",
       "      <td>7</td>\n",
       "      <td>Fiction</td>\n",
       "    </tr>\n",
       "    <tr>\n",
       "      <th>2</th>\n",
       "      <td>275034</td>\n",
       "      <td>1970-01-18</td>\n",
       "      <td>F</td>\n",
       "      <td>4.0</td>\n",
       "      <td>64777271023</td>\n",
       "      <td>275034</td>\n",
       "      <td>2011-05-23</td>\n",
       "      <td>7</td>\n",
       "      <td>5</td>\n",
       "      <td>2</td>\n",
       "      <td>197</td>\n",
       "      <td>41.370</td>\n",
       "      <td>435.370</td>\n",
       "      <td>Flagship store</td>\n",
       "      <td>Books</td>\n",
       "      <td>7</td>\n",
       "      <td>Fiction</td>\n",
       "    </tr>\n",
       "    <tr>\n",
       "      <th>3</th>\n",
       "      <td>270829</td>\n",
       "      <td>1970-01-22</td>\n",
       "      <td>F</td>\n",
       "      <td>8.0</td>\n",
       "      <td>87174343938</td>\n",
       "      <td>270829</td>\n",
       "      <td>2013-09-12</td>\n",
       "      <td>7</td>\n",
       "      <td>5</td>\n",
       "      <td>4</td>\n",
       "      <td>1141</td>\n",
       "      <td>479.220</td>\n",
       "      <td>5043.220</td>\n",
       "      <td>e-Shop</td>\n",
       "      <td>Books</td>\n",
       "      <td>7</td>\n",
       "      <td>Fiction</td>\n",
       "    </tr>\n",
       "    <tr>\n",
       "      <th>4</th>\n",
       "      <td>267657</td>\n",
       "      <td>1970-01-29</td>\n",
       "      <td>F</td>\n",
       "      <td>7.0</td>\n",
       "      <td>76242744953</td>\n",
       "      <td>267657</td>\n",
       "      <td>2013-05-23</td>\n",
       "      <td>7</td>\n",
       "      <td>5</td>\n",
       "      <td>4</td>\n",
       "      <td>1020</td>\n",
       "      <td>428.400</td>\n",
       "      <td>4508.400</td>\n",
       "      <td>e-Shop</td>\n",
       "      <td>Books</td>\n",
       "      <td>7</td>\n",
       "      <td>Fiction</td>\n",
       "    </tr>\n",
       "    <tr>\n",
       "      <th>...</th>\n",
       "      <td>...</td>\n",
       "      <td>...</td>\n",
       "      <td>...</td>\n",
       "      <td>...</td>\n",
       "      <td>...</td>\n",
       "      <td>...</td>\n",
       "      <td>...</td>\n",
       "      <td>...</td>\n",
       "      <td>...</td>\n",
       "      <td>...</td>\n",
       "      <td>...</td>\n",
       "      <td>...</td>\n",
       "      <td>...</td>\n",
       "      <td>...</td>\n",
       "      <td>...</td>\n",
       "      <td>...</td>\n",
       "      <td>...</td>\n",
       "    </tr>\n",
       "    <tr>\n",
       "      <th>23048</th>\n",
       "      <td>267812</td>\n",
       "      <td>1992-04-12</td>\n",
       "      <td>F</td>\n",
       "      <td>1.0</td>\n",
       "      <td>63540378797</td>\n",
       "      <td>267812</td>\n",
       "      <td>2012-10-10</td>\n",
       "      <td>10</td>\n",
       "      <td>5</td>\n",
       "      <td>3</td>\n",
       "      <td>224</td>\n",
       "      <td>70.560</td>\n",
       "      <td>742.560</td>\n",
       "      <td>TeleShop</td>\n",
       "      <td>Books</td>\n",
       "      <td>10</td>\n",
       "      <td>Non-Fiction</td>\n",
       "    </tr>\n",
       "    <tr>\n",
       "      <th>23049</th>\n",
       "      <td>274618</td>\n",
       "      <td>1992-09-12</td>\n",
       "      <td>F</td>\n",
       "      <td>7.0</td>\n",
       "      <td>71793203305</td>\n",
       "      <td>274618</td>\n",
       "      <td>2013-08-17</td>\n",
       "      <td>10</td>\n",
       "      <td>5</td>\n",
       "      <td>4</td>\n",
       "      <td>691</td>\n",
       "      <td>290.220</td>\n",
       "      <td>3054.220</td>\n",
       "      <td>Flagship store</td>\n",
       "      <td>Books</td>\n",
       "      <td>10</td>\n",
       "      <td>Non-Fiction</td>\n",
       "    </tr>\n",
       "    <tr>\n",
       "      <th>23050</th>\n",
       "      <td>268097</td>\n",
       "      <td>1992-12-15</td>\n",
       "      <td>F</td>\n",
       "      <td>7.0</td>\n",
       "      <td>91217108818</td>\n",
       "      <td>268097</td>\n",
       "      <td>2012-01-02</td>\n",
       "      <td>10</td>\n",
       "      <td>5</td>\n",
       "      <td>2</td>\n",
       "      <td>411</td>\n",
       "      <td>86.310</td>\n",
       "      <td>908.310</td>\n",
       "      <td>e-Shop</td>\n",
       "      <td>Books</td>\n",
       "      <td>10</td>\n",
       "      <td>Non-Fiction</td>\n",
       "    </tr>\n",
       "    <tr>\n",
       "      <th>23051</th>\n",
       "      <td>268097</td>\n",
       "      <td>1992-12-15</td>\n",
       "      <td>F</td>\n",
       "      <td>7.0</td>\n",
       "      <td>90114483354</td>\n",
       "      <td>268097</td>\n",
       "      <td>2011-01-31</td>\n",
       "      <td>10</td>\n",
       "      <td>5</td>\n",
       "      <td>-4</td>\n",
       "      <td>-1408</td>\n",
       "      <td>591.360</td>\n",
       "      <td>-6223.360</td>\n",
       "      <td>e-Shop</td>\n",
       "      <td>Books</td>\n",
       "      <td>10</td>\n",
       "      <td>Non-Fiction</td>\n",
       "    </tr>\n",
       "    <tr>\n",
       "      <th>23052</th>\n",
       "      <td>268097</td>\n",
       "      <td>1992-12-15</td>\n",
       "      <td>F</td>\n",
       "      <td>7.0</td>\n",
       "      <td>90114483354</td>\n",
       "      <td>268097</td>\n",
       "      <td>2011-01-26</td>\n",
       "      <td>10</td>\n",
       "      <td>5</td>\n",
       "      <td>4</td>\n",
       "      <td>1408</td>\n",
       "      <td>591.360</td>\n",
       "      <td>6223.360</td>\n",
       "      <td>e-Shop</td>\n",
       "      <td>Books</td>\n",
       "      <td>10</td>\n",
       "      <td>Non-Fiction</td>\n",
       "    </tr>\n",
       "  </tbody>\n",
       "</table>\n",
       "<p>23053 rows × 17 columns</p>\n",
       "</div>"
      ],
      "text/plain": [
       "       customer_Id        DOB Gender  city_code  transaction_id  cust_id  \\\n",
       "0           268408 1970-02-01      M        4.0     87243835584   268408   \n",
       "1           275152 1970-01-16      M        4.0     73109425404   275152   \n",
       "2           275034 1970-01-18      F        4.0     64777271023   275034   \n",
       "3           270829 1970-01-22      F        8.0     87174343938   270829   \n",
       "4           267657 1970-01-29      F        7.0     76242744953   267657   \n",
       "...            ...        ...    ...        ...             ...      ...   \n",
       "23048       267812 1992-04-12      F        1.0     63540378797   267812   \n",
       "23049       274618 1992-09-12      F        7.0     71793203305   274618   \n",
       "23050       268097 1992-12-15      F        7.0     91217108818   268097   \n",
       "23051       268097 1992-12-15      F        7.0     90114483354   268097   \n",
       "23052       268097 1992-12-15      F        7.0     90114483354   268097   \n",
       "\n",
       "       tran_date  prod_subcat_code  prod_cat_code  Qty  Rate      Tax  \\\n",
       "0     2014-01-13                 7              5    5   187   98.175   \n",
       "1     2011-03-25                 7              5    2   464   97.440   \n",
       "2     2011-05-23                 7              5    2   197   41.370   \n",
       "3     2013-09-12                 7              5    4  1141  479.220   \n",
       "4     2013-05-23                 7              5    4  1020  428.400   \n",
       "...          ...               ...            ...  ...   ...      ...   \n",
       "23048 2012-10-10                10              5    3   224   70.560   \n",
       "23049 2013-08-17                10              5    4   691  290.220   \n",
       "23050 2012-01-02                10              5    2   411   86.310   \n",
       "23051 2011-01-31                10              5   -4 -1408  591.360   \n",
       "23052 2011-01-26                10              5    4  1408  591.360   \n",
       "\n",
       "       total_amt      Store_type prod_cat  prod_sub_cat_code  prod_subcat  \n",
       "0       1033.175        TeleShop    Books                  7      Fiction  \n",
       "1       1025.440          e-Shop    Books                  7      Fiction  \n",
       "2        435.370  Flagship store    Books                  7      Fiction  \n",
       "3       5043.220          e-Shop    Books                  7      Fiction  \n",
       "4       4508.400          e-Shop    Books                  7      Fiction  \n",
       "...          ...             ...      ...                ...          ...  \n",
       "23048    742.560        TeleShop    Books                 10  Non-Fiction  \n",
       "23049   3054.220  Flagship store    Books                 10  Non-Fiction  \n",
       "23050    908.310          e-Shop    Books                 10  Non-Fiction  \n",
       "23051  -6223.360          e-Shop    Books                 10  Non-Fiction  \n",
       "23052   6223.360          e-Shop    Books                 10  Non-Fiction  \n",
       "\n",
       "[23053 rows x 17 columns]"
      ]
     },
     "execution_count": 23,
     "metadata": {},
     "output_type": "execute_result"
    }
   ],
   "source": [
    "customer_final\n"
   ]
  },
  {
   "cell_type": "code",
   "execution_count": 24,
   "id": "86043619",
   "metadata": {},
   "outputs": [],
   "source": [
    "def contvar(x):\n",
    "     \n",
    "        x.hist()\n",
    "        plt.title('Frequency of '+ x.name )\n",
    "        plt.figure(figsize = (10,6))\n",
    "        plt.show()\n",
    "    "
   ]
  },
  {
   "cell_type": "code",
   "execution_count": 25,
   "id": "3efc7c20",
   "metadata": {},
   "outputs": [
    {
     "ename": "NameError",
     "evalue": "name 'cont_var' is not defined",
     "output_type": "error",
     "traceback": [
      "\u001b[1;31m---------------------------------------------------------------------------\u001b[0m",
      "\u001b[1;31mNameError\u001b[0m                                 Traceback (most recent call last)",
      "Cell \u001b[1;32mIn[25], line 1\u001b[0m\n\u001b[1;32m----> 1\u001b[0m \u001b[43mcont_var\u001b[49m\u001b[38;5;241m.\u001b[39mapply(contvar)\n",
      "\u001b[1;31mNameError\u001b[0m: name 'cont_var' is not defined"
     ]
    }
   ],
   "source": [
    "cont_var.apply(contvar)"
   ]
  },
  {
   "cell_type": "code",
   "execution_count": 26,
   "id": "4262ab6c",
   "metadata": {},
   "outputs": [],
   "source": [
    "def catvar(x):\n",
    "    sns.histplot(x)\n",
    "    \n",
    "    plt.figure(figsize = (14,8))\n",
    "\n",
    "    plt.show()"
   ]
  },
  {
   "cell_type": "code",
   "execution_count": 27,
   "id": "377c9c39",
   "metadata": {},
   "outputs": [
    {
     "data": {
      "image/png": "[encoded data removed]",
      "text/plain": [
       "<Figure size 640x480 with 1 Axes>"
      ]
     },
     "metadata": {},
     "output_type": "display_data"
    },
    {
     "data": {
      "text/plain": [
       "<Figure size 1400x800 with 0 Axes>"
      ]
     },
     "metadata": {},
     "output_type": "display_data"
    },
    {
     "data": {
      "image/png": "[encoded data removed]",
      "text/plain": [
       "<Figure size 640x480 with 1 Axes>"
      ]
     },
     "metadata": {},
     "output_type": "display_data"
    },
    {
     "data": {
      "text/plain": [
       "<Figure size 1400x800 with 0 Axes>"
      ]
     },
     "metadata": {},
     "output_type": "display_data"
    },
    {
     "data": {
      "image/png": "[encoded data removed]",
      "text/plain": [
       "<Figure size 640x480 with 1 Axes>"
      ]
     },
     "metadata": {},
     "output_type": "display_data"
    },
    {
     "data": {
      "text/plain": [
       "<Figure size 1400x800 with 0 Axes>"
      ]
     },
     "metadata": {},
     "output_type": "display_data"
    },
    {
     "data": {
      "image/png": "[encoded data removed]",
      "text/plain": [
       "<Figure size 640x480 with 1 Axes>"
      ]
     },
     "metadata": {},
     "output_type": "display_data"
    },
    {
     "data": {
      "text/plain": [
       "<Figure size 1400x800 with 0 Axes>"
      ]
     },
     "metadata": {},
     "output_type": "display_data"
    },
    {
     "data": {
      "text/plain": [
       "Gender         None\n",
       "Store_type     None\n",
       "prod_cat       None\n",
       "prod_subcat    None\n",
       "dtype: object"
      ]
     },
     "execution_count": 27,
     "metadata": {},
     "output_type": "execute_result"
    }
   ],
   "source": [
    "cat_var.apply(catvar)"
   ]
  },
  {
   "cell_type": "markdown",
   "id": "1b1bcb5d",
   "metadata": {},
   "source": [
    "### ***4. Calculate the following information using the merged dataset :***"
   ]
  },
  {
   "cell_type": "markdown",
   "id": "db30a7eb",
   "metadata": {},
   "source": [
    "***a. Time period of the available transaction data***"
   ]
  },
  {
   "cell_type": "code",
   "execution_count": null,
   "id": "c2d43c5d",
   "metadata": {},
   "outputs": [],
   "source": [
    "ww = customer_final['tran_date'].max()\n",
    "ww"
   ]
  },
  {
   "cell_type": "code",
   "execution_count": null,
   "id": "1517af0c",
   "metadata": {},
   "outputs": [],
   "source": [
    "www = pd.Timestamp.strftime(ww , format = '%Y-%m-%d' )  \n",
    "www\n"
   ]
  },
  {
   "cell_type": "code",
   "execution_count": null,
   "id": "d471d365",
   "metadata": {},
   "outputs": [],
   "source": [
    "ws = customer_final['tran_date'].min()\n",
    "ws"
   ]
  },
  {
   "cell_type": "code",
   "execution_count": null,
   "id": "ccf421a1",
   "metadata": {},
   "outputs": [],
   "source": [
    "wws = pd.Timestamp.strftime(ws , format = '%Y-%m-%d' )\n",
    "wws"
   ]
  },
  {
   "cell_type": "code",
   "execution_count": null,
   "id": "c3d03537",
   "metadata": {},
   "outputs": [],
   "source": [
    "print('Time period of the available transaction data is '+ www  +  ' to '  +  wws)"
   ]
  },
  {
   "cell_type": "markdown",
   "id": "4026d19f",
   "metadata": {},
   "source": [
    "****b. Count of transactions where the total amount of transaction was negative***"
   ]
  },
  {
   "cell_type": "code",
   "execution_count": null,
   "id": "40e8752f",
   "metadata": {},
   "outputs": [],
   "source": [
    "customer_final[customer_final['total_amt'] < 0].shape[0]"
   ]
  },
  {
   "cell_type": "markdown",
   "id": "df41c9e5",
   "metadata": {},
   "source": [
    "### ***5. Analyze which product categories are more popular among females vs male customers.***"
   ]
  },
  {
   "cell_type": "code",
   "execution_count": null,
   "id": "12ad8cda",
   "metadata": {},
   "outputs": [],
   "source": [
    "qq = pd.DataFrame(customer_final.groupby(['Gender','prod_cat'])[\"Qty\"].sum())\n",
    "\n",
    "qq.reset_index()\n"
   ]
  },
  {
   "cell_type": "markdown",
   "id": "746c3196",
   "metadata": {},
   "source": [
    "###  ****6. Which City code has the maximum customers and what was the percentage of customers from that city?****"
   ]
  },
  {
   "cell_type": "code",
   "execution_count": null,
   "id": "d0cb090e",
   "metadata": {},
   "outputs": [],
   "source": [
    "city = pd.DataFrame(customer_final.groupby('city_code')['cust_id'].count()).reset_index().rename(columns = {'cust_id':'count'}).sort_values(by = 'count' , ascending = False )\n",
    "city"
   ]
  },
  {
   "cell_type": "markdown",
   "id": "bd01265a",
   "metadata": {},
   "source": [
    "### Percentage of customers from that city"
   ]
  },
  {
   "cell_type": "code",
   "execution_count": null,
   "id": "f5e7fee2",
   "metadata": {},
   "outputs": [],
   "source": [
    "city.loc[ 3 , 'count'] / city['count'].sum() * 100"
   ]
  },
  {
   "cell_type": "markdown",
   "id": "a9b9128a",
   "metadata": {},
   "source": [
    "### ***7. Which store type sells the maximum products by value and by quantity?****"
   ]
  },
  {
   "cell_type": "code",
   "execution_count": null,
   "id": "c9bff5b7",
   "metadata": {},
   "outputs": [],
   "source": [
    "customer_final.groupby('Store_type')[['Qty' , 'total_amt']].sum().sort_values(by = 'Qty' , ascending = False)"
   ]
  },
  {
   "cell_type": "markdown",
   "id": "da3b349e",
   "metadata": {},
   "source": [
    "### ***8. What was the total amount earned from the \"Electronics\" and \"Clothing\" categories from Flagship Stores?***"
   ]
  },
  {
   "cell_type": "code",
   "execution_count": null,
   "id": "b0e05bce",
   "metadata": {},
   "outputs": [],
   "source": [
    "cc = pd.DataFrame(customer_final.groupby(['prod_cat','Store_type'])['total_amt'].sum()).reset_index()\n",
    "cc"
   ]
  },
  {
   "cell_type": "code",
   "execution_count": null,
   "id": "c1d2c22a",
   "metadata": {},
   "outputs": [],
   "source": [
    "ccc = cc.loc[8:16,['prod_cat','Store_type','total_amt']]\n",
    "ccc\n"
   ]
  },
  {
   "cell_type": "code",
   "execution_count": null,
   "id": "a3e70fec",
   "metadata": {},
   "outputs": [],
   "source": [
    "ccc = ccc.pivot(index = 'prod_cat' , columns = 'Store_type' , values ='total_amt' )\n",
    "ccc"
   ]
  },
  {
   "cell_type": "code",
   "execution_count": null,
   "id": "2105d42e",
   "metadata": {},
   "outputs": [],
   "source": [
    "ccc.loc[['Clothing','Electronics'], 'Flagship store'].sum()"
   ]
  },
  {
   "cell_type": "markdown",
   "id": "42652f32",
   "metadata": {},
   "source": [
    "### ****9. What was the total amount earned from \"Male\" customers under the \"Electronics\" category?****\n"
   ]
  },
  {
   "cell_type": "code",
   "execution_count": null,
   "id": "205b878c",
   "metadata": {},
   "outputs": [],
   "source": [
    "ta = pd.DataFrame(customer_final.groupby(['Gender','prod_cat'])['total_amt'].sum()).reset_index()\n",
    "ta"
   ]
  },
  {
   "cell_type": "code",
   "execution_count": null,
   "id": "f5a551df",
   "metadata": {},
   "outputs": [],
   "source": [
    "taa = ta.loc[6 : , ['Gender','prod_cat','total_amt']]\n",
    "taa"
   ]
  },
  {
   "cell_type": "code",
   "execution_count": null,
   "id": "acbbbfd8",
   "metadata": {},
   "outputs": [],
   "source": [
    "taa.loc[ 9 : 9,'total_amt' ]"
   ]
  },
  {
   "cell_type": "markdown",
   "id": "e48332ac",
   "metadata": {},
   "source": [
    "### **10. How many customers have more than 10 unique transactions, after removing all transactions which have any negative amounts?**"
   ]
  },
  {
   "cell_type": "code",
   "execution_count": null,
   "id": "a5dadc1f",
   "metadata": {},
   "outputs": [],
   "source": [
    "new_data = customer_final.loc[customer_final['total_amt'] >0 , : : ]\n",
    "new_data.head(2)"
   ]
  },
  {
   "cell_type": "code",
   "execution_count": null,
   "id": "fe71091f",
   "metadata": {},
   "outputs": [],
   "source": [
    "st =  new_data.groupby('customer_Id')['transaction_id'].count()\n",
    "st"
   ]
  },
  {
   "cell_type": "code",
   "execution_count": null,
   "id": "dc988e64",
   "metadata": {},
   "outputs": [],
   "source": [
    "ut = pd.DataFrame(new_data.groupby(['customer_Id','prod_cat','prod_subcat'])['transaction_id'].count()).reset_index()\n",
    "ut"
   ]
  },
  {
   "cell_type": "code",
   "execution_count": null,
   "id": "4771f6a5",
   "metadata": {},
   "outputs": [],
   "source": [
    "uta = ut.groupby('customer_Id')['transaction_id'].count()\n",
    "uta"
   ]
  },
  {
   "cell_type": "markdown",
   "id": "629cccac",
   "metadata": {},
   "source": [
    "### 11. For all customers aged between 25 - 35, find out: \n",
    "### a. What was the total amount spent for “Electronics” and “Books” product categories?"
   ]
  },
  {
   "cell_type": "code",
   "execution_count": null,
   "id": "d05a5d00",
   "metadata": {},
   "outputs": [],
   "source": [
    "customer_final['age'] =customer_final['DOB'].apply(lambda x : pd.Timestamp.now().year - x.year)\n",
    "customer_final['age'] "
   ]
  },
  {
   "cell_type": "code",
   "execution_count": null,
   "id": "e7c64126",
   "metadata": {},
   "outputs": [],
   "source": [
    "age_group = customer_final[(customer_final['age'] > 25) & (customer_final['age'] < 35 )]\n",
    "age_group"
   ]
  },
  {
   "cell_type": "code",
   "execution_count": null,
   "id": "412b4d69",
   "metadata": {},
   "outputs": [],
   "source": [
    "nda = pd.DataFrame(age_group.groupby('prod_cat')['total_amt'].sum()).reset_index()\n",
    "nda"
   ]
  },
  {
   "cell_type": "code",
   "execution_count": null,
   "id": "8c563b96",
   "metadata": {},
   "outputs": [],
   "source": [
    "Total_amt_spent = nda.total_amt[1] + nda.total_amt[3]\n",
    "Total_amt_spent "
   ]
  },
  {
   "cell_type": "markdown",
   "id": "7ff35796",
   "metadata": {},
   "source": [
    "### ***b. What was the total amount spent by these customers between 1st Jan, 2014 to 1st Mar, 2014?***"
   ]
  },
  {
   "cell_type": "code",
   "execution_count": null,
   "id": "0e88af66",
   "metadata": {},
   "outputs": [],
   "source": [
    "ag = pd.DataFrame(age_group[(age_group.tran_date > pd.to_datetime('01-01-2014' , format = '%d-%m-%Y')) & (age_group.tran_date < pd.to_datetime('01-03-2014' , format = '%d-%m-%Y'))].reset_index(drop=True))\n",
    "ag.head(3)"
   ]
  },
  {
   "cell_type": "code",
   "execution_count": null,
   "id": "e60b6e4e",
   "metadata": {},
   "outputs": [],
   "source": [
    "ag.total_amt.sum()"
   ]
  },
  {
   "cell_type": "code",
   "execution_count": null,
   "id": "1d73e1fe",
   "metadata": {},
   "outputs": [],
   "source": [
    "customer_final.to_csv(\"C:\\\\Users\\ifixthat\\\\Downloads\\\\Compressed\\\\Python RETAIL CASE STUDY\\\\Case Study 1 - Retail Case Study\\\\Retail_case_study.csv \")"
   ]
  },
  {
   "cell_type": "code",
   "execution_count": null,
   "id": "d34e1e3f",
   "metadata": {},
   "outputs": [],
   "source": []
  }
 ],
 "metadata": {
  "kernelspec": {
   "display_name": "Python 3 (ipykernel)",
   "language": "python",
   "name": "python3"
  },
  "language_info": {
   "codemirror_mode": {
    "name": "ipython",
    "version": 3
   },
   "file_extension": ".py",
   "mimetype": "text/x-python",
   "name": "python",
   "nbconvert_exporter": "python",
   "pygments_lexer": "ipython3",
   "version": "3.10.9"
  }
 },
 "nbformat": 4,
 "nbformat_minor": 5
}
